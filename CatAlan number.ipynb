{
 "cells": [
  {
   "cell_type": "markdown",
   "metadata": {},
   "source": [
    "* 一下大部分内容来自wiki"
   ]
  },
  {
   "cell_type": "markdown",
   "metadata": {},
   "source": [
    "一般项公式为：\n",
    "<center>$C_n\\ =\\ \\frac{1}{n+1}\\left(^{2n}_n\\right)\\ =\\ \\frac{(2n)!}{(n+1)!n!}$</center>\n",
    "另一个表达式为：\n",
    "<center>$c_n\\ =\\ \\left(^{2n}_{n}\\right)-\\left(^{2n}_{n+1}\\right)\\ \\ \\ for\\ n >= 1$</center>\n",
    "其递推表达式是：\n",
    "<center>$C_0\\ =\\ 1\\ and\\\\  C_{n+1}\\ =\\ \\sum^n_{i=0}C_iC_{n-i}\\ for\\ n>=0$</center>\n",
    "或：\n",
    "<center>$c_0\\ =\\ 1\\ and\\\\  c_{n+1}\\ =\\ \\frac{2(2n+1)}{n+2}C_n$</center>"
   ]
  },
  {
   "cell_type": "markdown",
   "metadata": {},
   "source": [
    "### 应用\n",
    "组合数学中有非常多的组合结构可以用卡塔兰数来计数。在Richard P. Stanley的Enumerative Combinatorics: Volume2一书的习题中包括了66个相依的可由卡塔兰数表达的组合结构，我就摘了几个比较有趣的：\n",
    "* $c_n$表示有n个节点组成不同构二叉树的方案数。\n",
    "* $c_n$表示有2n+1个节点组成不同构满二叉树的方案数。\n",
    "* $c_n$表示所有n*n格点种不越过对角线的单调路径的个数。一个单调路径从个点左下角出发，在个点右上角结束，每一步均为向上或向右。计算这种路径的个数等价于计算Dyck word个数。\n",
    "* $c_n$表示长度2n的dyck word的个数。Dyck word是一个有n个X和n个Y组成的字串，且所有的前缀字串阶满足X的个数大于等于Y的个数。\n",
    "* $c_n$表示所有包含n组括号的合法运算式的个数（将上例中X换成左括号，Y换成右括号）\n",
    "* $c_n$表示通过连接顶点而将n+2边的凸多边形分成三角形的方法个数\n",
    "* $c_n$表示集合{1...n}的不交叉划分的个数\n",
    "* $c_n$表示2*你的矩阵的标准杨氏矩阵的个数。也就是说，它是数字1, 2, ..., 2n被放置在一个2*n矩阵中并保证每行每列的数字升序排列的方案书。\n",
    "* $c_n$表示n个无标号物品的半序的个数"
   ]
  },
  {
   "cell_type": "markdown",
   "metadata": {},
   "source": [
    "![CatAlan numbers](https://raw.githubusercontent.com/HuangYiran/Natural_Language_Processing_with_Deep_Learning/master/catlan%20numbers.png)"
   ]
  },
  {
   "cell_type": "markdown",
   "metadata": {},
   "source": [
    "看了上面的介绍之后，我们可以充分的了解到，做学问的最重要的一点就是学会信任。~.~|||"
   ]
  },
  {
   "cell_type": "code",
   "execution_count": null,
   "metadata": {
    "collapsed": true
   },
   "outputs": [],
   "source": []
  }
 ],
 "metadata": {
  "kernelspec": {
   "display_name": "Python 3",
   "language": "python",
   "name": "python3"
  },
  "language_info": {
   "codemirror_mode": {
    "name": "ipython",
    "version": 3
   },
   "file_extension": ".py",
   "mimetype": "text/x-python",
   "name": "python",
   "nbconvert_exporter": "python",
   "pygments_lexer": "ipython3",
   "version": "3.6.1"
  }
 },
 "nbformat": 4,
 "nbformat_minor": 2
}
